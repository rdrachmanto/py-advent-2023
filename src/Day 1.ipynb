{
 "cells": [
  {
   "cell_type": "markdown",
   "id": "5c468c38-5936-4de2-81d2-06d9a7d84f95",
   "metadata": {},
   "source": [
    "## Advent of Code Day 1: Trebuchet?!\n",
    "\n",
    "Contained two problems. Utilizing regex to solve the problem.\n",
    "[Input](https://adventofcode.com/2023/day/1/input)"
   ]
  },
  {
   "cell_type": "markdown",
   "id": "03d0ae0c-e797-4646-9f7b-86537691c99e",
   "metadata": {},
   "source": [
    "### Problem 1:\n",
    "\n",
    "The newly-improved calibration document consists of lines of text; each line originally contained a specific calibration value that the Elves now need to recover. On each line, the calibration value can be found by combining the first digit and the last digit (in that order) to form a single two-digit number.\n",
    "\n",
    "Consider your entire calibration document. What is the sum of all of the calibration values?"
   ]
  },
  {
   "cell_type": "code",
   "execution_count": 1,
   "id": "c7f52532-d1ee-4885-a48c-4da1e183bb60",
   "metadata": {},
   "outputs": [],
   "source": [
    "import re\n",
    "\n",
    "def get_calibration_values(line) -> int:\n",
    "    matches = re.findall(r\"\\d\", line)\n",
    "    if matches:\n",
    "        strm = \"\".join(matches)\n",
    "        return int(f\"{strm[0]}{strm[-1]}\")\n",
    "\n",
    "def sum_calibration_values(text) -> int:\n",
    "    sum = 0\n",
    "    for line in text.splitlines():\n",
    "        lval = get_calibration_values(line)\n",
    "        sum += lval\n",
    "    return sum"
   ]
  },
  {
   "cell_type": "code",
   "execution_count": 2,
   "id": "ef2ff32b-3703-4e79-ab0c-4b4b25ca9cfe",
   "metadata": {},
   "outputs": [],
   "source": [
    "# Test\n",
    "t = \"\"\"\\\n",
    "1abc2\n",
    "pqr3stu8vwx\n",
    "a1b2c3d4e5f\n",
    "treb7uchet\n",
    "\"\"\"\n",
    "\n",
    "assert(sum_calibration_values(t) == 142)"
   ]
  },
  {
   "cell_type": "code",
   "execution_count": 3,
   "id": "9b327d16-8f02-4be4-919d-b9425d6ecbed",
   "metadata": {},
   "outputs": [
    {
     "name": "stdout",
     "output_type": "stream",
     "text": [
      "Problem 1: 56465\n"
     ]
    }
   ],
   "source": [
    "import aocd\n",
    "\n",
    "print(f\"Problem 1: {sum_calibration_values(aocd.get_data(year=2023, day=1))}\")"
   ]
  },
  {
   "cell_type": "markdown",
   "id": "fd106f7e-2470-46b8-9619-d82f44e5c8d8",
   "metadata": {},
   "source": [
    "### Problem 2:\n",
    "\n",
    "Apparently, the lines might contain text like `6fourfour` which should be converted into `644`. Possible values are `one`, `two`, `three` to `nine`.\n",
    "\n",
    "With this new information, what is the sum of all of the calibration values?"
   ]
  },
  {
   "cell_type": "code",
   "execution_count": 27,
   "id": "4d926ca9-7809-4996-a5f4-ddcf17388fe4",
   "metadata": {},
   "outputs": [],
   "source": [
    "import re\n",
    "\n",
    "WORDS_TO_DIGIT_MAP = {\n",
    "    \"one\": \"1\",\n",
    "    \"two\": \"2\",\n",
    "    \"three\": \"3\",\n",
    "    \"four\": \"4\",\n",
    "    \"five\": \"5\",\n",
    "    \"six\": \"6\",\n",
    "    \"seven\": \"7\",\n",
    "    \"eight\": \"8\",\n",
    "    \"nine\": \"9\",\n",
    "}\n",
    "\n",
    "def replace_word_to_dig(match):\n",
    "    return WORDS_TO_DIGIT_MAP[match.group(0)]\n",
    "\n",
    "def get_calibration_values(line) -> int:\n",
    "    word2dig = re.compile(\"|\".join(WORDS_TO_DIGIT_MAP.keys()))\n",
    "    line = word2dig.sub(replace_word_to_dig, line)\n",
    "\n",
    "    matches = re.findall(r\"\\d\", line)\n",
    "    if matches:\n",
    "        strm = \"\".join(matches)\n",
    "        return int(f\"{strm[0]}{strm[-1]}\")\n",
    "    return 0\n",
    "    \n",
    "def sum_calibration_values(text) -> int:\n",
    "    sum = 0\n",
    "    for line in text.splitlines():\n",
    "        lval = get_calibration_values(line)\n",
    "        sum += lval\n",
    "    return sum"
   ]
  },
  {
   "cell_type": "code",
   "execution_count": 30,
   "id": "eff92479-4975-43ff-8d93-b20d3e07f457",
   "metadata": {},
   "outputs": [],
   "source": [
    "# Test\n",
    "t = \"\"\"\\\n",
    "two1nine\n",
    "eightwothree\n",
    "abcone2threexyz\n",
    "xtwone3four\n",
    "4nineeightseven2\n",
    "zoneight234\n",
    "7pqrstsixteen\n",
    "\"\"\"\n",
    "\n",
    "assert(get_calibration_values(t.splitlines()[1]) == 83)\n",
    "assert(get_calibration_values(t.splitlines()[-2]) == 14)\n",
    "assert(sum_calibration_values(t) == 281)"
   ]
  },
  {
   "cell_type": "code",
   "execution_count": 29,
   "id": "c223c4e4-e48f-4926-ba6f-d7591d5f0fa6",
   "metadata": {},
   "outputs": [
    {
     "name": "stdout",
     "output_type": "stream",
     "text": [
      "Problem 2: 55929\n"
     ]
    }
   ],
   "source": [
    "import aocd\n",
    "\n",
    "print(f\"Problem 2: {sum_calibration_values(aocd.get_data(year=2023, day=1))}\")"
   ]
  }
 ],
 "metadata": {
  "kernelspec": {
   "display_name": "Python 3 (ipykernel)",
   "language": "python",
   "name": "python3"
  },
  "language_info": {
   "codemirror_mode": {
    "name": "ipython",
    "version": 3
   },
   "file_extension": ".py",
   "mimetype": "text/x-python",
   "name": "python",
   "nbconvert_exporter": "python",
   "pygments_lexer": "ipython3",
   "version": "3.12.0"
  }
 },
 "nbformat": 4,
 "nbformat_minor": 5
}
