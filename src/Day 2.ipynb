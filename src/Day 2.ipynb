{
 "cells": [
  {
   "cell_type": "markdown",
   "id": "3dd15575-162a-4f82-b2a2-4503888d1a45",
   "metadata": {},
   "source": [
    "## Advent of Code Day 2: Cube Conundrum?!\n",
    "\n",
    "Contained two problems. Utilizing regex to solve the problem.   \n",
    "[Problem URL](https://adventofcode.com/2023/day/2)  \n",
    "[Input URL](https://adventofcode.com/2023/day/2/input)"
   ]
  },
  {
   "cell_type": "markdown",
   "id": "159f5844-ac36-4085-8f94-408249b9a9fe",
   "metadata": {},
   "source": [
    "### Problem 1:\n",
    "\n",
    "The Elf would first like to know which games would have been possible if the bag contained only 12 red cubes, 13 green cubes, and 14 blue cubes?"
   ]
  },
  {
   "cell_type": "code",
   "execution_count": 121,
   "id": "45368ec2-2489-4939-a801-2dc116f46b06",
   "metadata": {},
   "outputs": [],
   "source": [
    "import re\n",
    "\n",
    "MAX_CUBES = {\n",
    "    \"red\": 12,\n",
    "    \"green\": 13,\n",
    "    \"blue\": 14\n",
    "}\n",
    "\n",
    "def is_game_possible(game):\n",
    "    lr = game.split(\":\")\n",
    "    game_id = int(lr[0].split()[-1])\n",
    "    groups = lr[1].split(\";\")\n",
    "    for g in groups:\n",
    "        cubes = g.split(\",\")\n",
    "        for cube in cubes:\n",
    "            num, color = cube.strip().split(\" \")\n",
    "            if int(num) > MAX_CUBES[color]:\n",
    "                return 0\n",
    "    return game_id\n",
    "\n",
    "def sum_possible_games(games):\n",
    "    sum = 0\n",
    "    for game in games.splitlines():\n",
    "        sum += is_game_possible(game)\n",
    "    return sum"
   ]
  },
  {
   "cell_type": "code",
   "execution_count": 122,
   "id": "5c6de501-f1ef-4c7d-ad01-9fcf37d14fe9",
   "metadata": {},
   "outputs": [
    {
     "data": {
      "text/plain": [
       "8"
      ]
     },
     "execution_count": 122,
     "metadata": {},
     "output_type": "execute_result"
    }
   ],
   "source": [
    "# Test case\n",
    "t = \"\"\"\\\n",
    "Game 1: 3 blue, 4 red; 1 red, 2 green, 6 blue; 2 green\n",
    "Game 2: 1 blue, 2 green; 3 green, 4 blue, 1 red; 1 green, 1 blue\n",
    "Game 3: 8 green, 6 blue, 20 red; 5 blue, 4 red, 13 green; 5 green, 1 red\n",
    "Game 4: 1 green, 3 red, 6 blue; 3 green, 6 red; 3 green, 15 blue, 14 red\n",
    "Game 5: 6 red, 1 blue, 3 green; 2 blue, 1 red, 2 green\n",
    "\"\"\"\n",
    "\n",
    "sum_possible_games(t)"
   ]
  },
  {
   "cell_type": "code",
   "execution_count": 123,
   "id": "0c0bc2d1-1c91-4c2b-92ce-de73fe53fc8e",
   "metadata": {},
   "outputs": [
    {
     "name": "stdout",
     "output_type": "stream",
     "text": [
      "3099\n"
     ]
    }
   ],
   "source": [
    "import aocd\n",
    "\n",
    "print(sum_possible_games(aocd.get_data(year=2023, day=2)))"
   ]
  },
  {
   "cell_type": "markdown",
   "id": "b783cace-477c-4efa-a365-4a801bc0e983",
   "metadata": {},
   "source": [
    "### Problem 2:\n",
    "\n",
    "In each game you played, what is the fewest number of cubes of each color that could have been in the bag to make the game possible?\n",
    "\n",
    "For each game, find the minimum set of cubes that must have been present. What is the sum of the power of these sets?\n",
    "\n",
    "- Find the maximum number of each cube\n",
    "- Multiply together to get the power"
   ]
  },
  {
   "cell_type": "code",
   "execution_count": 145,
   "id": "b9de7bfb-d1ac-4368-bfdf-90a32e5840f7",
   "metadata": {},
   "outputs": [],
   "source": [
    "import re\n",
    "import functools\n",
    "\n",
    "def power_of_game(game):\n",
    "    lr = game.split(\":\")\n",
    "    groups = lr[1].split(\";\")\n",
    "\n",
    "    maxima = {\n",
    "        \"red\": 0,\n",
    "        \"green\": 0,\n",
    "        \"blue\": 0,\n",
    "    }\n",
    "    \n",
    "    for g in groups:\n",
    "        cubes = g.split(\",\")\n",
    "        for cube in cubes:\n",
    "            num, color = cube.strip().split(\" \")\n",
    "            maxima[color] = max(int(num), maxima[color])\n",
    "    \n",
    "    return functools.reduce(lambda a, b: a * b, maxima.values())\n",
    "    # Equivalent to maxima[\"red\"] * maxima[\"blue\"] * maxima[\"green\"]\n",
    "\n",
    "def sum_power_of_games(games):\n",
    "    sum = 0\n",
    "    for game in games.splitlines():\n",
    "        sum += power_of_game(game)\n",
    "    return sum"
   ]
  },
  {
   "cell_type": "code",
   "execution_count": 146,
   "id": "d0a0d1cf-185c-45e9-9e0a-53e16db075dd",
   "metadata": {},
   "outputs": [
    {
     "data": {
      "text/plain": [
       "2286"
      ]
     },
     "execution_count": 146,
     "metadata": {},
     "output_type": "execute_result"
    }
   ],
   "source": [
    "# Test case\n",
    "t = \"\"\"\\\n",
    "Game 1: 3 blue, 4 red; 1 red, 2 green, 6 blue; 2 green\n",
    "Game 2: 1 blue, 2 green; 3 green, 4 blue, 1 red; 1 green, 1 blue\n",
    "Game 3: 8 green, 6 blue, 20 red; 5 blue, 4 red, 13 green; 5 green, 1 red\n",
    "Game 4: 1 green, 3 red, 6 blue; 3 green, 6 red; 3 green, 15 blue, 14 red\n",
    "Game 5: 6 red, 1 blue, 3 green; 2 blue, 1 red, 2 green\n",
    "\"\"\"\n",
    "\n",
    "sum_power_of_games(t)"
   ]
  },
  {
   "cell_type": "code",
   "execution_count": 148,
   "id": "aadacca6-c470-415e-bded-c7b4e5f39ee1",
   "metadata": {},
   "outputs": [
    {
     "name": "stdout",
     "output_type": "stream",
     "text": [
      "72970\n"
     ]
    }
   ],
   "source": [
    "import aocd\n",
    "\n",
    "print(sum_power_of_games(aocd.get_data(year=2023, day=2)))"
   ]
  },
  {
   "cell_type": "code",
   "execution_count": null,
   "id": "3b90b86e-1ddf-4b95-bd7a-7011f1e05c18",
   "metadata": {},
   "outputs": [],
   "source": []
  }
 ],
 "metadata": {
  "kernelspec": {
   "display_name": "Python 3 (ipykernel)",
   "language": "python",
   "name": "python3"
  },
  "language_info": {
   "codemirror_mode": {
    "name": "ipython",
    "version": 3
   },
   "file_extension": ".py",
   "mimetype": "text/x-python",
   "name": "python",
   "nbconvert_exporter": "python",
   "pygments_lexer": "ipython3",
   "version": "3.12.0"
  }
 },
 "nbformat": 4,
 "nbformat_minor": 5
}
